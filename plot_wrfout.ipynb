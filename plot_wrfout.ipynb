{
 "cells": [
  {
   "cell_type": "code",
   "execution_count": 38,
   "id": "80fb44a7-dbd4-441b-b4d4-759ecc454854",
   "metadata": {},
   "outputs": [],
   "source": [
    "import xarray as xr\n",
    "import glob\n",
    "import matplotlib.pyplot as plt\n",
    "\n",
    "import cartopy.crs as crs\n",
    "import cartopy.feature as cfeature\n",
    "from cartopy.feature import NaturalEarthFeature\n",
    "from wrf import (to_np, interplevel, geo_bounds, getvar, smooth2d, get_cartopy, cartopy_xlim,\n",
    "                 cartopy_ylim, latlon_coords)\n",
    "from metpy.plots import ctables\n",
    "import imageio\n",
    "import pandas as pd\n",
    "import numpy as np\n",
    "import wrf\n",
    "from netCDF4 import Dataset"
   ]
  },
  {
   "cell_type": "code",
   "execution_count": 39,
   "id": "f4d2925f-fc90-4bc6-934f-577f8ca29b9a",
   "metadata": {},
   "outputs": [],
   "source": [
    "\"\"\"\n",
    "User settings\n",
    "\"\"\"\n",
    "input_files = glob.glob(\"/scratch/legetker/derecho_1deg/wrfout_d02*\")\n",
    "output_dir = \"/home/jupyter-legetker@ncsu.edu/wrf/plots_1deg/\""
   ]
  },
  {
   "cell_type": "code",
   "execution_count": 49,
   "id": "1633eda0-a66c-4208-ba1b-afd8b9787b09",
   "metadata": {},
   "outputs": [
    {
     "name": "stdout",
     "output_type": "stream",
     "text": [
      "1998-06-01T09:00:00.000000000\n"
     ]
    },
    {
     "ename": "NameError",
     "evalue": "name 'slp' is not defined",
     "output_type": "error",
     "traceback": [
      "\u001b[0;31m---------------------------------------------------------------------------\u001b[0m",
      "\u001b[0;31mNameError\u001b[0m                                 Traceback (most recent call last)",
      "Cell \u001b[0;32mIn[49], line 8\u001b[0m\n\u001b[1;32m      6\u001b[0m \u001b[38;5;28mprint\u001b[39m(time_str)\n\u001b[1;32m      7\u001b[0m dbz \u001b[38;5;241m=\u001b[39m getvar(file, \u001b[38;5;124m\"\u001b[39m\u001b[38;5;124mdbz\u001b[39m\u001b[38;5;124m\"\u001b[39m)[\u001b[38;5;241m0\u001b[39m,:,:]\n\u001b[0;32m----> 8\u001b[0m smooth_slp \u001b[38;5;241m=\u001b[39m smooth2d(\u001b[43mslp\u001b[49m, \u001b[38;5;241m3\u001b[39m, cenweight\u001b[38;5;241m=\u001b[39m\u001b[38;5;241m4\u001b[39m)\n",
      "\u001b[0;31mNameError\u001b[0m: name 'slp' is not defined"
     ]
    }
   ],
   "source": [
    "images = []\n",
    "\n",
    "for i in range(3):#len(input_files)):\n",
    "    file = Dataset(input_files[i])\n",
    "    time_str =str(wrf.extract_times(file, timeidx=0, method='cat', squeeze=True, cache=None, meta=False, do_xtime=False))\n",
    "    print(time_str)\n",
    "    dbz = getvar(file, \"dbz\")[0,:,:]\n",
    "    slp = getvar(ncfile, \"slp\")\n",
    "    smooth_slp = smooth2d(slp, 3, cenweight=4)"
   ]
  },
  {
   "cell_type": "code",
   "execution_count": null,
   "id": "c4d3aab8-0a57-466b-bbcc-c909eb452d7d",
   "metadata": {},
   "outputs": [],
   "source": []
  }
 ],
 "metadata": {
  "kernelspec": {
   "display_name": "MEA443",
   "language": "python",
   "name": "mea443"
  },
  "language_info": {
   "codemirror_mode": {
    "name": "ipython",
    "version": 3
   },
   "file_extension": ".py",
   "mimetype": "text/x-python",
   "name": "python",
   "nbconvert_exporter": "python",
   "pygments_lexer": "ipython3",
   "version": "3.11.0"
  }
 },
 "nbformat": 4,
 "nbformat_minor": 5
}
